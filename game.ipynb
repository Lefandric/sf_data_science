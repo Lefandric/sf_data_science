{
 "cells": [
  {
   "cell_type": "code",
   "execution_count": 1,
   "id": "d5251174",
   "metadata": {},
   "outputs": [
    {
     "name": "stdout",
     "output_type": "stream",
     "text": [
      "Ваш алгоритм угадывает число в среднем за: 101 попыток\n"
     ]
    }
   ],
   "source": [
    "import game_v2"
   ]
  },
  {
   "cell_type": "code",
   "execution_count": 2,
   "id": "98deaed3",
   "metadata": {},
   "outputs": [
    {
     "name": "stdout",
     "output_type": "stream",
     "text": [
      "Ваш алгоритм угадывает число в среднем за: 101 попыток\n"
     ]
    },
    {
     "data": {
      "text/plain": [
       "101"
      ]
     },
     "execution_count": 2,
     "metadata": {},
     "output_type": "execute_result"
    }
   ],
   "source": [
    "game_v2.score_game(game_v2.random_predict)"
   ]
  },
  {
   "cell_type": "markdown",
   "id": "bfa9b3db",
   "metadata": {},
   "source": [
    "# Игра угадай число"
   ]
  },
  {
   "cell_type": "code",
   "execution_count": 5,
   "id": "900c627f",
   "metadata": {},
   "outputs": [],
   "source": [
    "from game_v2 import score_game\n",
    "from game_v2 import random_predict\n"
   ]
  },
  {
   "cell_type": "markdown",
   "id": "23a313ad",
   "metadata": {},
   "source": [
    "## Угадываем рандомно"
   ]
  },
  {
   "cell_type": "code",
   "execution_count": 4,
   "id": "df480810",
   "metadata": {},
   "outputs": [
    {
     "name": "stdout",
     "output_type": "stream",
     "text": [
      "Ваш алгоритм угадывает число в среднем за: 101 попыток\n"
     ]
    },
    {
     "data": {
      "text/plain": [
       "101"
      ]
     },
     "execution_count": 4,
     "metadata": {},
     "output_type": "execute_result"
    }
   ],
   "source": [
    "score_game(random_predict)"
   ]
  },
  {
   "cell_type": "code",
   "execution_count": 6,
   "id": "ee0d9f89",
   "metadata": {},
   "outputs": [],
   "source": [
    "n = 10\n",
    "z = n\n",
    "n = 5"
   ]
  },
  {
   "cell_type": "code",
   "execution_count": 7,
   "id": "2939870f",
   "metadata": {},
   "outputs": [],
   "source": [
    "x = 65"
   ]
  }
 ],
 "metadata": {
  "kernelspec": {
   "display_name": "Python 3",
   "language": "python",
   "name": "python3"
  },
  "language_info": {
   "codemirror_mode": {
    "name": "ipython",
    "version": 3
   },
   "file_extension": ".py",
   "mimetype": "text/x-python",
   "name": "python",
   "nbconvert_exporter": "python",
   "pygments_lexer": "ipython3",
   "version": "3.13.2"
  }
 },
 "nbformat": 4,
 "nbformat_minor": 5
}
